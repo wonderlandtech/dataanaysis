{
 "cells": [
  {
   "cell_type": "markdown",
   "metadata": {},
   "source": [
    "#### If else statements "
   ]
  },
  {
   "cell_type": "code",
   "execution_count": 10,
   "metadata": {},
   "outputs": [
    {
     "name": "stdout",
     "output_type": "stream",
     "text": [
      "b is greater\n"
     ]
    }
   ],
   "source": [
    "a = 40\n",
    "b = 100\n",
    "\n",
    "if b > a:\n",
    "   print('b is greater')\n",
    "else:\n",
    "    print('No')"
   ]
  },
  {
   "cell_type": "code",
   "execution_count": 9,
   "metadata": {},
   "outputs": [
    {
     "name": "stdout",
     "output_type": "stream",
     "text": [
      "a is the same as b\n"
     ]
    }
   ],
   "source": [
    "# elif: this is a way of saying if the previous conditions were not true, then try this condition\n",
    "\n",
    "a = 50\n",
    "b = 50\n",
    "\n",
    "if b > a:\n",
    "    print('b is greater than a')\n",
    "elif a == b:\n",
    "    print('a is the same as b')"
   ]
  },
  {
   "cell_type": "code",
   "execution_count": 3,
   "metadata": {},
   "outputs": [
    {
     "name": "stdout",
     "output_type": "stream",
     "text": [
      "a is greater than b\n"
     ]
    }
   ],
   "source": [
    "# else: this will run anything that is not caught by the previous conditions \n",
    "\n",
    "a = 500\n",
    "b = 50\n",
    "\n",
    "if b > a:\n",
    "    print('b is greater than a')\n",
    "elif a == b:\n",
    "    print('a is the same as b')\n",
    "else:\n",
    "    print('a is greater than b')"
   ]
  },
  {
   "cell_type": "code",
   "execution_count": 4,
   "metadata": {},
   "outputs": [
    {
     "name": "stdout",
     "output_type": "stream",
     "text": [
      "no\n"
     ]
    }
   ],
   "source": [
    "# short hand if ...else \n",
    "\n",
    "a = 500\n",
    "b = 50\n",
    "\n",
    "print('yes') if b > a else print('no') #the condition is between the two print statements\n"
   ]
  },
  {
   "cell_type": "code",
   "execution_count": 5,
   "metadata": {},
   "outputs": [
    {
     "name": "stdout",
     "output_type": "stream",
     "text": [
      "no\n"
     ]
    }
   ],
   "source": [
    "# and, or\n",
    "\n",
    "a = 500\n",
    "b = 50\n",
    "c = 200\n",
    "\n",
    "if a > b and c > a:\n",
    "    print('oh yes')\n",
    "else:\n",
    "    print('no')"
   ]
  },
  {
   "cell_type": "code",
   "execution_count": 6,
   "metadata": {},
   "outputs": [
    {
     "name": "stdout",
     "output_type": "stream",
     "text": [
      "oh yes\n"
     ]
    }
   ],
   "source": [
    "a = 500\n",
    "b = 50\n",
    "c = 200\n",
    "\n",
    "if a > b or c > a:\n",
    "    print('oh yes')\n",
    "else:\n",
    "    print('no')"
   ]
  },
  {
   "cell_type": "code",
   "execution_count": 7,
   "metadata": {},
   "outputs": [
    {
     "name": "stdout",
     "output_type": "stream",
     "text": [
      "above ten\n",
      "yeah\n"
     ]
    }
   ],
   "source": [
    "# Nested if\n",
    "\n",
    "x = 41\n",
    "\n",
    "if x > 10:\n",
    "    print('above ten')\n",
    "    if x > 20:\n",
    "        print('yeah')\n",
    "    else:\n",
    "        print('not at all')"
   ]
  },
  {
   "cell_type": "code",
   "execution_count": null,
   "metadata": {},
   "outputs": [],
   "source": []
  }
 ],
 "metadata": {
  "kernelspec": {
   "display_name": "Python 3",
   "language": "python",
   "name": "python3"
  },
  "language_info": {
   "codemirror_mode": {
    "name": "ipython",
    "version": 3
   },
   "file_extension": ".py",
   "mimetype": "text/x-python",
   "name": "python",
   "nbconvert_exporter": "python",
   "pygments_lexer": "ipython3",
   "version": "3.8.5"
  }
 },
 "nbformat": 4,
 "nbformat_minor": 4
}
