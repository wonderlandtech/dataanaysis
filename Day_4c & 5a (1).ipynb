{
 "cells": [
  {
   "cell_type": "code",
   "execution_count": 2,
   "metadata": {},
   "outputs": [
    {
     "name": "stdout",
     "output_type": "stream",
     "text": [
      "2\n",
      "3\n",
      "4\n",
      "5\n",
      "6\n",
      "7\n",
      "8\n",
      "9\n"
     ]
    }
   ],
   "source": [
    "# While Loops\n",
    "\n",
    "i = 2\n",
    "while i <10:\n",
    "    print(i)\n",
    "    i+=1\n"
   ]
  },
  {
   "cell_type": "code",
   "execution_count": 3,
   "metadata": {},
   "outputs": [
    {
     "name": "stdout",
     "output_type": "stream",
     "text": [
      "2\n"
     ]
    }
   ],
   "source": [
    "a = 2\n",
    "while a <10:\n",
    "    print(a)\n",
    "    break"
   ]
  },
  {
   "cell_type": "code",
   "execution_count": 2,
   "metadata": {},
   "outputs": [
    {
     "name": "stdout",
     "output_type": "stream",
     "text": [
      "1\n",
      "2\n",
      "3\n",
      "4\n",
      "5\n",
      "6\n",
      "7\n",
      "8\n"
     ]
    }
   ],
   "source": [
    "# using the break statement\n",
    "i = 1 \n",
    "while i < 10:\n",
    "    print(i)\n",
    "    if i == 8:\n",
    "        break\n",
    "    i+=1         \n"
   ]
  },
  {
   "cell_type": "code",
   "execution_count": 4,
   "metadata": {},
   "outputs": [
    {
     "name": "stdout",
     "output_type": "stream",
     "text": [
      "2\n",
      "3\n",
      "4\n",
      "6\n",
      "7\n",
      "8\n",
      "9\n",
      "10\n"
     ]
    }
   ],
   "source": [
    "# Uisng the continue statement: this usually skips the current item and continues at the next item. \n",
    "i = 1 \n",
    "while i < 10:\n",
    "    i+=1 \n",
    "    if i == 5:\n",
    "        continue\n",
    "    print(i)"
   ]
  },
  {
   "cell_type": "code",
   "execution_count": 3,
   "metadata": {},
   "outputs": [
    {
     "name": "stdout",
     "output_type": "stream",
     "text": [
      "apple\n",
      "banana\n",
      "cherry\n"
     ]
    }
   ],
   "source": [
    "# For Loop \n",
    "\n",
    "fruits = ['apple', 'banana', 'cherry']\n",
    "\n",
    "for x in fruits:\n",
    "    print(x)"
   ]
  },
  {
   "cell_type": "code",
   "execution_count": 4,
   "metadata": {},
   "outputs": [
    {
     "name": "stdout",
     "output_type": "stream",
     "text": [
      "apple\n",
      "banana\n"
     ]
    }
   ],
   "source": [
    "for x in fruits:\n",
    "    print(x)\n",
    "    if x == 'banana':\n",
    "        break "
   ]
  },
  {
   "cell_type": "code",
   "execution_count": 5,
   "metadata": {},
   "outputs": [
    {
     "name": "stdout",
     "output_type": "stream",
     "text": [
      "apple\n",
      "cherry\n"
     ]
    }
   ],
   "source": [
    "for x in fruits:\n",
    "    if x == 'banana':\n",
    "        continue\n",
    "    print(x)"
   ]
  },
  {
   "cell_type": "code",
   "execution_count": 14,
   "metadata": {},
   "outputs": [
    {
     "name": "stdout",
     "output_type": "stream",
     "text": [
      "1\n",
      "2\n",
      "3\n"
     ]
    }
   ],
   "source": [
    "#using the range() function: (start, stop, step)\n",
    "for x in range(1, 4):\n",
    "    print(x)"
   ]
  },
  {
   "cell_type": "code",
   "execution_count": 5,
   "metadata": {},
   "outputs": [
    {
     "name": "stdout",
     "output_type": "stream",
     "text": [
      "0\n",
      "1\n",
      "2\n",
      "3\n",
      "4\n",
      "5\n",
      "All done\n"
     ]
    }
   ],
   "source": [
    "#Else in for loop: the else keyword in a for loop specifies a block of code to be executed \n",
    "# when the loop is finished\n",
    "\n",
    "for x in range (6):\n",
    "    print(x)\n",
    "else:\n",
    "    print('All done')\n",
    "\n"
   ]
  },
  {
   "cell_type": "code",
   "execution_count": 26,
   "metadata": {},
   "outputs": [
    {
     "name": "stdout",
     "output_type": "stream",
     "text": [
      "blue spoon\n",
      "blue plate\n",
      "red spoon\n",
      "red plate\n",
      "orange spoon\n",
      "orange plate\n"
     ]
    }
   ],
   "source": [
    "# Nested for Loops: this is a loop inside another loop; the inner loop will be executed one time\n",
    "# for each iteration of the outer loop\n",
    "\n",
    "a = ['blue', 'red', 'orange']\n",
    "b = ['spoon', 'plate']\n",
    "\n",
    "for x in a:\n",
    "    for y in b:\n",
    "        print(x,y)\n"
   ]
  },
  {
   "cell_type": "markdown",
   "metadata": {},
   "source": [
    "Checking Usernames: Do the following to create a program that simulates how websites ensure that everyone has a unique username. • Make a list of five or more usernames called current_users. • Make another list of five usernames called new_users. Make sure one or two of the new usernames are also in the current_users list. • Loop through the new_users list to see if each new username has already been used. If it has, print a message that the person will need to enter a new username. If a username has not been used, print a message saying that the username is available. • Make sure your comparison is case insensitive. If 'John' has been used, 'JOHN' should not be accepted"
   ]
  },
  {
   "cell_type": "code",
   "execution_count": 28,
   "metadata": {},
   "outputs": [
    {
     "name": "stdout",
     "output_type": "stream",
     "text": [
      "username is available\n",
      "please enter a new username\n",
      "please enter a new username\n",
      "username is available\n",
      "please enter a new username\n",
      "username is available\n",
      "username is available\n"
     ]
    }
   ],
   "source": [
    "current_users = ['TOM', 'kenny', 'seun', 'tola', 'femi', 'niyi', 'Peter']\n",
    "new_users = ['dammy', 'tom', 'FEMI', 'john', 'peter', 'thomas', 'fola']\n",
    "\n",
    "for n in new_users:\n",
    "    if n.lower() in current_users:\n",
    "        print('please enter a new username')\n",
    "    elif n.upper() in current_users:\n",
    "        print('please enter a new username')\n",
    "    elif n.title() in current_users:\n",
    "        print('please enter a new username')\n",
    "    else:\n",
    "        print('username is available')\n"
   ]
  },
  {
   "cell_type": "code",
   "execution_count": 17,
   "metadata": {},
   "outputs": [
    {
     "data": {
      "text/plain": [
       "'femi'"
      ]
     },
     "execution_count": 17,
     "metadata": {},
     "output_type": "execute_result"
    }
   ],
   "source": [
    "new_users = ['dammy', 'tom', 'FEMI', 'john', 'peter', 'thomas']\n",
    "\n",
    "new_users[2].lower()"
   ]
  },
  {
   "cell_type": "code",
   "execution_count": null,
   "metadata": {},
   "outputs": [],
   "source": []
  },
  {
   "cell_type": "markdown",
   "metadata": {},
   "source": [
    "### Day 5 starts here\n",
    "\n",
    "Python functions: A function is a block of code which only runs when it is called. It allows us to create blocks of code that can be easily executed many times without needing to constantly rewrite the entire block of codes. You can pass data, known as parameters into a function and a function can return data as a result"
   ]
  },
  {
   "cell_type": "code",
   "execution_count": 29,
   "metadata": {},
   "outputs": [
    {
     "name": "stdout",
     "output_type": "stream",
     "text": [
      "I am here\n"
     ]
    }
   ],
   "source": [
    "def Bola():\n",
    "    print('I am here')\n",
    "    \n",
    "Bola()"
   ]
  },
  {
   "cell_type": "code",
   "execution_count": 19,
   "metadata": {},
   "outputs": [
    {
     "name": "stdout",
     "output_type": "stream",
     "text": [
      "Hello there\n"
     ]
    }
   ],
   "source": [
    "# In python, a function is defined by using the def keyword.\n",
    "\n",
    "def my_function ():\n",
    "    print(\"Hello there\") # the code you want executed everytime you call the function. \n",
    "    \n",
    "my_function()\n",
    "    \n",
    "    "
   ]
  },
  {
   "cell_type": "code",
   "execution_count": 33,
   "metadata": {},
   "outputs": [
    {
     "name": "stdout",
     "output_type": "stream",
     "text": [
      "Tolulope Toluwade\n"
     ]
    }
   ],
   "source": [
    "# Example 3\n",
    "def my_name(last_name):\n",
    "    print('Tolulope ' + last_name)\n",
    "my_name('Toluwade')"
   ]
  },
  {
   "cell_type": "code",
   "execution_count": 22,
   "metadata": {},
   "outputs": [
    {
     "name": "stdout",
     "output_type": "stream",
     "text": [
      "Tolulope Toluwade\n"
     ]
    }
   ],
   "source": [
    "# Example 4\n",
    "def my_function(firstname):\n",
    "    print(firstname + ' Toluwade')\n",
    "\n",
    "my_function('Tolulope')"
   ]
  },
  {
   "cell_type": "code",
   "execution_count": 40,
   "metadata": {},
   "outputs": [
    {
     "name": "stdout",
     "output_type": "stream",
     "text": [
      "tolu Toluwade\n"
     ]
    }
   ],
   "source": [
    "def my_function(firstname):\n",
    "    print(firstname,'Toluwade')\n",
    "    \n",
    "my_function('tolu')"
   ]
  },
  {
   "cell_type": "code",
   "execution_count": 14,
   "metadata": {},
   "outputs": [
    {
     "name": "stdout",
     "output_type": "stream",
     "text": [
      "fMy name is Peniel\n"
     ]
    }
   ],
   "source": [
    "def myfunc(Name):\n",
    "    print('fMy name is', Name)\n",
    "myfunc('Peniel')"
   ]
  },
  {
   "cell_type": "code",
   "execution_count": 35,
   "metadata": {},
   "outputs": [
    {
     "name": "stdout",
     "output_type": "stream",
     "text": [
      "Niyi Lanre Moluga\n"
     ]
    }
   ],
   "source": [
    "def names(fn, mn, ln):\n",
    "    print(fn, mn, ln)\n",
    "    \n",
    "names('Niyi', 'Lanre', 'Moluga')\n",
    "    \n",
    "    \n",
    "    \n",
    "    "
   ]
  },
  {
   "cell_type": "code",
   "execution_count": 42,
   "metadata": {},
   "outputs": [
    {
     "name": "stdout",
     "output_type": "stream",
     "text": [
      "Segun Coker\n"
     ]
    }
   ],
   "source": [
    "def my_function(fname, lname):\n",
    "    print(fname + lname)\n",
    "    \n",
    "my_function('Segun', ' Coker')"
   ]
  },
  {
   "cell_type": "code",
   "execution_count": 49,
   "metadata": {},
   "outputs": [
    {
     "name": "stdout",
     "output_type": "stream",
     "text": [
      "Segun Segun Moses\n"
     ]
    }
   ],
   "source": [
    "def my_function(fname, mname, lname):\n",
    "    print(fname + mname + lname)\n",
    "    \n",
    "my_function('Segun', ' Segun', ' Moses')"
   ]
  },
  {
   "cell_type": "code",
   "execution_count": 36,
   "metadata": {},
   "outputs": [
    {
     "name": "stdout",
     "output_type": "stream",
     "text": [
      "the first guy is Seun\n"
     ]
    }
   ],
   "source": [
    "# Using the *\n",
    "def guys(*guy):\n",
    "    print('the first guy is', guy[2])\n",
    "    \n",
    "guys('Tola', 'Bunmi', 'Seun', 'Sola', 'Femi')"
   ]
  },
  {
   "cell_type": "code",
   "execution_count": 41,
   "metadata": {},
   "outputs": [
    {
     "name": "stdout",
     "output_type": "stream",
     "text": [
      "the oldest man is ('tolu', 'tobi', 'tola', 'sola', 'fola')\n"
     ]
    }
   ],
   "source": [
    "# Uisng the * Example 2\n",
    "def my_function(*man):\n",
    "    print('the oldest man is', man)\n",
    "    \n",
    "my_function('tolu', 'tobi', 'tola', 'sola', 'fola')"
   ]
  },
  {
   "cell_type": "code",
   "execution_count": 39,
   "metadata": {},
   "outputs": [
    {
     "name": "stdout",
     "output_type": "stream",
     "text": [
      "His full name is Fola Seun Ade\n"
     ]
    }
   ],
   "source": [
    "# Using the **, Example 1\n",
    "\n",
    "def boys(**name):\n",
    "    print('His full name is', name ['fn'] + \" \" + name ['mn'] + \" \" + name ['ln'])\n",
    "\n",
    "boys(fn='Fola', mn='Seun', ln='Ade')\n",
    "\n",
    "    "
   ]
  },
  {
   "cell_type": "code",
   "execution_count": 13,
   "metadata": {},
   "outputs": [
    {
     "name": "stdout",
     "output_type": "stream",
     "text": [
      "Her full name is Jaye Mama Kuti\n"
     ]
    }
   ],
   "source": [
    "# If you do not know how many keyword arguments that will be passed into your function, add two \n",
    "# asterisk before the parameter name in the function definition. especially if you need to use\n",
    "# more than one name\n",
    "\n",
    "def my_function(**name):\n",
    "    print('Her full name is', name ['fname'] + \" \" + name ['mname'] + \" \" + name ['lname'])\n",
    "   \n",
    "    \n",
    "my_function(fname = 'Jaye', lname = 'Kuti', mname = 'Mama')"
   ]
  },
  {
   "cell_type": "code",
   "execution_count": 49,
   "metadata": {},
   "outputs": [
    {
     "name": "stdout",
     "output_type": "stream",
     "text": [
      "I live in Nigeria\n",
      "I live in United Kingdom\n"
     ]
    }
   ],
   "source": [
    "def my_former_country(country='Nigeria'):\n",
    "    print('I live in', country)\n",
    "\n",
    "my_former_country()\n",
    "my_former_country('United Kingdom')"
   ]
  },
  {
   "cell_type": "code",
   "execution_count": 71,
   "metadata": {},
   "outputs": [
    {
     "name": "stdout",
     "output_type": "stream",
     "text": [
      "I live in Algeria\n",
      "I live in Bulgaria\n",
      "I live in Nigeria\n",
      "I live in United Kingdom\n"
     ]
    }
   ],
   "source": [
    "def my_function(country = 'Nigeria'):\n",
    "    print('I live in ' + country)\n",
    "    \n",
    "my_function('Algeria')\n",
    "my_function('Bulgaria')\n",
    "my_function()\n",
    "my_function('United Kingdom')"
   ]
  },
  {
   "cell_type": "code",
   "execution_count": 51,
   "metadata": {},
   "outputs": [
    {
     "name": "stdout",
     "output_type": "stream",
     "text": [
      "10\n",
      "15\n",
      "25\n"
     ]
    }
   ],
   "source": [
    "def multiply(y):\n",
    "    return 5*y\n",
    "\n",
    "print(multiply(2))\n",
    "print(multiply(3))\n",
    "print(multiply(5))"
   ]
  },
  {
   "cell_type": "code",
   "execution_count": 73,
   "metadata": {},
   "outputs": [
    {
     "name": "stdout",
     "output_type": "stream",
     "text": [
      "20\n",
      "50\n",
      "100\n"
     ]
    }
   ],
   "source": [
    "# Return Values\n",
    "\n",
    "def my_function(x):\n",
    "    return 10 * x\n",
    "\n",
    "print(my_function(2))\n",
    "print(my_function(5))\n",
    "print(my_function(10))"
   ]
  },
  {
   "cell_type": "code",
   "execution_count": null,
   "metadata": {},
   "outputs": [],
   "source": []
  },
  {
   "cell_type": "code",
   "execution_count": null,
   "metadata": {},
   "outputs": [],
   "source": []
  },
  {
   "cell_type": "code",
   "execution_count": null,
   "metadata": {},
   "outputs": [],
   "source": []
  },
  {
   "cell_type": "code",
   "execution_count": null,
   "metadata": {},
   "outputs": [],
   "source": []
  },
  {
   "cell_type": "code",
   "execution_count": null,
   "metadata": {},
   "outputs": [],
   "source": []
  }
 ],
 "metadata": {
  "kernelspec": {
   "display_name": "Python 3",
   "language": "python",
   "name": "python3"
  },
  "language_info": {
   "codemirror_mode": {
    "name": "ipython",
    "version": 3
   },
   "file_extension": ".py",
   "mimetype": "text/x-python",
   "name": "python",
   "nbconvert_exporter": "python",
   "pygments_lexer": "ipython3",
   "version": "3.8.5"
  }
 },
 "nbformat": 4,
 "nbformat_minor": 4
}
