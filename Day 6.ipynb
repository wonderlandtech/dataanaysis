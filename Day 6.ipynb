{
 "cells": [
  {
   "cell_type": "markdown",
   "metadata": {},
   "source": [
    "### Lambda:\n",
    "A lambda function is a small anonymous function.\n",
    "\n",
    "A lambda function can take any number of arguments, but can only have one expression.\n",
    "\n",
    "Syntax: \n",
    "\n",
    "lambda arguments : expression\n",
    "\n",
    "The expression is executed and the result is returned:"
   ]
  },
  {
   "cell_type": "code",
   "execution_count": 6,
   "metadata": {},
   "outputs": [
    {
     "name": "stdout",
     "output_type": "stream",
     "text": [
      "20\n"
     ]
    }
   ],
   "source": [
    "# Example 1a:\n",
    "# Syntax: \n",
    "# lambda a: expression \n",
    "\n",
    "a = lambda c: c*5\n",
    "\n",
    "print(a(4))"
   ]
  },
  {
   "cell_type": "code",
   "execution_count": 7,
   "metadata": {},
   "outputs": [
    {
     "name": "stdout",
     "output_type": "stream",
     "text": [
      "35\n"
     ]
    }
   ],
   "source": [
    "# Example 1b: the argument or parameter is given a value at the print statement\n",
    "\n",
    "y = lambda a: a + 15\n",
    "print(y(20))"
   ]
  },
  {
   "cell_type": "code",
   "execution_count": 8,
   "metadata": {},
   "outputs": [
    {
     "name": "stdout",
     "output_type": "stream",
     "text": [
      "12\n"
     ]
    }
   ],
   "source": [
    "# Example 2: It can take more than one argument\n",
    "\n",
    "a = lambda b,c: b*c\n",
    "\n",
    "print(a(4,3))"
   ]
  },
  {
   "cell_type": "code",
   "execution_count": 9,
   "metadata": {},
   "outputs": [
    {
     "name": "stdout",
     "output_type": "stream",
     "text": [
      "18\n"
     ]
    }
   ],
   "source": [
    "# Example 3\n",
    "c = lambda x,y,z: x+y+z\n",
    "\n",
    "print(c(5,6,7))"
   ]
  },
  {
   "cell_type": "markdown",
   "metadata": {},
   "source": [
    "Why use Lambda functions?\n",
    "\n",
    "The power of lambda is better shown when you use them as an anonymous function inside another function.\n",
    "\n",
    "Say you have a function definition that takes one argument, and that argument will be multiplied with an unknown number:"
   ]
  },
  {
   "cell_type": "code",
   "execution_count": 10,
   "metadata": {},
   "outputs": [
    {
     "name": "stdout",
     "output_type": "stream",
     "text": [
      "20\n",
      "20\n",
      "50\n",
      "100\n"
     ]
    }
   ],
   "source": [
    "def multi_num(a):\n",
    "    return lambda x:x*a\n",
    "times = multi_num(5)\n",
    "\n",
    "print(multi_num(5)(4)) # another option/alternative, line 3 may not be necessary\n",
    "\n",
    "print(times(4))\n",
    "print(times(10))\n",
    "print(times(20))"
   ]
  },
  {
   "cell_type": "code",
   "execution_count": 10,
   "metadata": {},
   "outputs": [
    {
     "name": "stdout",
     "output_type": "stream",
     "text": [
      "20\n"
     ]
    }
   ],
   "source": [
    "def myfunc(n):\n",
    "  return lambda a : a * n\n",
    "# Use that function definition to make a function that always doubles the number you send in:\n",
    "doubler = myfunc(2)\n",
    "\n",
    "print(doubler(10))\n",
    "\n",
    "# what happens here is that a variable is created bcos return is used and then when you print\n",
    "# the variable name, you will give s value for the lambda as it is in the normal syntax"
   ]
  },
  {
   "cell_type": "code",
   "execution_count": 11,
   "metadata": {},
   "outputs": [
    {
     "name": "stdout",
     "output_type": "stream",
     "text": [
      "30\n",
      "30\n"
     ]
    }
   ],
   "source": [
    "def myfunc_2(x):\n",
    "    return lambda b: b*x\n",
    "\n",
    "tripler = myfunc_2(3)\n",
    "\n",
    "print(myfunc_2(3)(10))\n",
    "\n",
    "print(tripler(10))"
   ]
  },
  {
   "cell_type": "code",
   "execution_count": 19,
   "metadata": {},
   "outputs": [
    {
     "name": "stdout",
     "output_type": "stream",
     "text": [
      "10\n",
      "15\n",
      "20\n"
     ]
    }
   ],
   "source": [
    "def myfunc(n):\n",
    "  return lambda a : a * n\n",
    "\n",
    "mydoubler = myfunc(2)\n",
    "mytripler = myfunc(3)\n",
    "my4 = myfunc(4)\n",
    "\n",
    "print(mydoubler(5))\n",
    "print(mytripler(5))\n",
    "print(my4(5))"
   ]
  },
  {
   "cell_type": "markdown",
   "metadata": {},
   "source": [
    "### Arrays: An array is also a data structure that stores a collection of items. Like lists, arrays are ordered, mutable, enclosed in square brackets, and able to store non-unique items. To use arrays in Python, you need to import either an array module or a NumPy package.\n",
    "\n",
    "import array as arr\n",
    "\n",
    "import numpy as np\n",
    "\n",
    "Syntax: arrayName = array(typecode, [Initializers]) OR np.array([elements]) \n",
    "\n",
    "Typecode are the codes that are used to define the type of value the array will hold. Some common typecodes used are:"
   ]
  },
  {
   "cell_type": "markdown",
   "metadata": {},
   "source": [
    "Typecode\t      Value\n",
    "\n",
    "b\tRepresents signed integer of size 1 byte/td>\n",
    "\n",
    "B\tRepresents unsigned integer of size 1 byte\n",
    "\n",
    "c\tRepresents character of size 1 byte\n",
    "\n",
    "i\tRepresents signed integer of size 2 bytes\n",
    "\n",
    "I\tRepresents unsigned integer of size 2 bytes\n",
    "\n",
    "f\tRepresents floating point of size 4 bytes\n",
    "\n",
    "d\tRepresents floating point of size 8 bytes"
   ]
  },
  {
   "cell_type": "code",
   "execution_count": 12,
   "metadata": {},
   "outputs": [],
   "source": [
    "from array import *\n",
    "import array as arr \n",
    "import numpy as np "
   ]
  },
  {
   "cell_type": "code",
   "execution_count": 16,
   "metadata": {},
   "outputs": [
    {
     "name": "stdout",
     "output_type": "stream",
     "text": [
      "array('i', [15, 16, 19, 20])\n"
     ]
    }
   ],
   "source": [
    "a = array('i',[15, 16, 19, 20])\n",
    "\n",
    "print(a)"
   ]
  },
  {
   "cell_type": "code",
   "execution_count": 67,
   "metadata": {},
   "outputs": [
    {
     "name": "stdout",
     "output_type": "stream",
     "text": [
      "array('i', [1, 2, 3, 4, 5])\n"
     ]
    }
   ],
   "source": [
    "array1 = array('i', [1,2,3,4,5])\n",
    "\n",
    "print(array1)"
   ]
  },
  {
   "cell_type": "code",
   "execution_count": 14,
   "metadata": {},
   "outputs": [
    {
     "name": "stdout",
     "output_type": "stream",
     "text": [
      "[ 50  60 100 200]\n"
     ]
    }
   ],
   "source": [
    "b = np.array([50, 60, 100, 200])\n",
    "\n",
    "print(b)"
   ]
  },
  {
   "cell_type": "code",
   "execution_count": 23,
   "metadata": {},
   "outputs": [
    {
     "name": "stdout",
     "output_type": "stream",
     "text": [
      "[10 20 30 40 50]\n",
      "10\n",
      "30\n",
      "20\n",
      "array('i', [10, 20, 30, 40])\n"
     ]
    }
   ],
   "source": [
    "# OR\n",
    "\n",
    "array_one = np.array([10, 20, 30, 40, 50])\n",
    "\n",
    "print(array_one)\n",
    "\n",
    "print (array2[0])\n",
    "\n",
    "print (array2[2])\n",
    "\n",
    "print(array2[-4])\n",
    "\n",
    "print(array2[:4])"
   ]
  },
  {
   "cell_type": "code",
   "execution_count": 20,
   "metadata": {},
   "outputs": [
    {
     "name": "stdout",
     "output_type": "stream",
     "text": [
      "10\n",
      "30\n",
      "20\n",
      "array('i', [50])\n"
     ]
    }
   ],
   "source": [
    "# Accessing array elemets: indexing \n",
    "\n",
    "array2 = array('i', [10,20,30,40,50])\n",
    "\n",
    "print (array2[0])\n",
    "\n",
    "print (array2[2])\n",
    "\n",
    "print(array2[-4])\n",
    "\n",
    "print(array2[4:])"
   ]
  },
  {
   "cell_type": "code",
   "execution_count": 69,
   "metadata": {},
   "outputs": [
    {
     "name": "stdout",
     "output_type": "stream",
     "text": [
      "['Jan' 'Feb' 'March' 'Apr' 'May']\n",
      "Apr\n"
     ]
    }
   ],
   "source": [
    "months_array = np.array(['Jan', 'Feb', 'March', 'Apr', 'May'])\n",
    "print(months_array)\n",
    "print(months_array[3])\n"
   ]
  },
  {
   "cell_type": "code",
   "execution_count": 25,
   "metadata": {},
   "outputs": [
    {
     "name": "stdout",
     "output_type": "stream",
     "text": [
      "10\n",
      "60\n",
      "20\n",
      "30\n",
      "40\n",
      "50\n"
     ]
    }
   ],
   "source": [
    "# Adding elements to array: you use insert() and you quote the index number and new element \n",
    "# to be added \n",
    "\n",
    "array3 = array('i', [10,20,30,40,50])\n",
    "\n",
    "array3.insert(1,60)\n",
    "\n",
    "for x in array3:\n",
    "    print(x)"
   ]
  },
  {
   "cell_type": "code",
   "execution_count": 26,
   "metadata": {},
   "outputs": [
    {
     "name": "stdout",
     "output_type": "stream",
     "text": [
      "[1, 2, 3, 4, 10, 20, 30, 40]\n"
     ]
    }
   ],
   "source": [
    "a = [1, 2, 3,  4]\n",
    "b = [10, 20, 30, 40]\n",
    "\n",
    "print(a + b)"
   ]
  },
  {
   "cell_type": "code",
   "execution_count": 27,
   "metadata": {},
   "outputs": [
    {
     "name": "stdout",
     "output_type": "stream",
     "text": [
      "[5 7 9]\n"
     ]
    }
   ],
   "source": [
    "array_A = np.array([1, 2, 3])\n",
    "array_B = np.array([4, 5, 6])\n",
    "\n",
    "print(array_A + array_B)\n",
    "\n",
    "# See the result! It is because numpy is numerical python and it is known for doing calculations\n",
    "# in python, so it doesm't see the + as concatenation, but an addition. "
   ]
  },
  {
   "cell_type": "code",
   "execution_count": 57,
   "metadata": {},
   "outputs": [
    {
     "name": "stdout",
     "output_type": "stream",
     "text": [
      "10\n",
      "20\n",
      "30\n",
      "50\n"
     ]
    }
   ],
   "source": [
    "# Removing elements from array \n",
    "\n",
    "array4 = array('i', [10,20,30,40,50])\n",
    "\n",
    "array4.remove(40)\n",
    "\n",
    "for x in array4:\n",
    "    print(x)"
   ]
  },
  {
   "cell_type": "code",
   "execution_count": 58,
   "metadata": {},
   "outputs": [
    {
     "name": "stdout",
     "output_type": "stream",
     "text": [
      "3\n"
     ]
    }
   ],
   "source": [
    "# Searching for elements: using the index() method\n",
    "\n",
    "array5 = array('i', [10,20,30,40,50])\n",
    "\n",
    "print (array5.index(40))"
   ]
  },
  {
   "cell_type": "code",
   "execution_count": 88,
   "metadata": {},
   "outputs": [
    {
     "name": "stdout",
     "output_type": "stream",
     "text": [
      "100\n",
      "205\n",
      "800\n",
      "400\n",
      "505\n"
     ]
    }
   ],
   "source": [
    "# Update elements\n",
    "\n",
    "array6 = array('i', [100,205,305,400,505])\n",
    "\n",
    "array6[2] = 800\n",
    "\n",
    "for x in array6:\n",
    " print(x)"
   ]
  },
  {
   "cell_type": "code",
   "execution_count": 28,
   "metadata": {},
   "outputs": [
    {
     "name": "stdout",
     "output_type": "stream",
     "text": [
      "[1.66666667 3.33333333 5.         6.66666667]\n"
     ]
    }
   ],
   "source": [
    "array_1 = np.array([5, 10, 15, 20])\n",
    "\n",
    "div = array_1/3\n",
    "\n",
    "print(div)"
   ]
  },
  {
   "cell_type": "code",
   "execution_count": 29,
   "metadata": {},
   "outputs": [
    {
     "ename": "TypeError",
     "evalue": "unsupported operand type(s) for /: 'list' and 'int'",
     "output_type": "error",
     "traceback": [
      "\u001b[1;31m---------------------------------------------------------------------------\u001b[0m",
      "\u001b[1;31mTypeError\u001b[0m                                 Traceback (most recent call last)",
      "\u001b[1;32m<ipython-input-29-6080680ff5ab>\u001b[0m in \u001b[0;36m<module>\u001b[1;34m\u001b[0m\n\u001b[0;32m      1\u001b[0m \u001b[0mx\u001b[0m \u001b[1;33m=\u001b[0m \u001b[1;33m[\u001b[0m\u001b[1;36m5\u001b[0m\u001b[1;33m,\u001b[0m \u001b[1;36m10\u001b[0m\u001b[1;33m,\u001b[0m \u001b[1;36m15\u001b[0m\u001b[1;33m,\u001b[0m \u001b[1;36m20\u001b[0m\u001b[1;33m]\u001b[0m\u001b[1;33m\u001b[0m\u001b[1;33m\u001b[0m\u001b[0m\n\u001b[1;32m----> 2\u001b[1;33m \u001b[0my\u001b[0m \u001b[1;33m=\u001b[0m \u001b[0mx\u001b[0m\u001b[1;33m/\u001b[0m\u001b[1;36m3\u001b[0m\u001b[1;33m\u001b[0m\u001b[1;33m\u001b[0m\u001b[0m\n\u001b[0m\u001b[0;32m      3\u001b[0m \u001b[0mprint\u001b[0m\u001b[1;33m(\u001b[0m\u001b[0my\u001b[0m\u001b[1;33m)\u001b[0m\u001b[1;33m\u001b[0m\u001b[1;33m\u001b[0m\u001b[0m\n",
      "\u001b[1;31mTypeError\u001b[0m: unsupported operand type(s) for /: 'list' and 'int'"
     ]
    }
   ],
   "source": [
    "x = [5, 10, 15, 20]\n",
    "y = x/3\n",
    "print(y)"
   ]
  },
  {
   "cell_type": "code",
   "execution_count": 72,
   "metadata": {},
   "outputs": [
    {
     "name": "stdout",
     "output_type": "stream",
     "text": [
      "[1. 2. 3. 4.]\n"
     ]
    }
   ],
   "source": [
    "# Other calculations in array \n",
    "\n",
    "array_new = np.array([3, 6, 9, 12])\n",
    "\n",
    "division = array_new/3\n",
    "print(division)\n",
    "#print (type(division))"
   ]
  },
  {
   "cell_type": "code",
   "execution_count": 76,
   "metadata": {},
   "outputs": [
    {
     "ename": "TypeError",
     "evalue": "unsupported operand type(s) for /: 'list' and 'int'",
     "output_type": "error",
     "traceback": [
      "\u001b[1;31m---------------------------------------------------------------------------\u001b[0m",
      "\u001b[1;31mTypeError\u001b[0m                                 Traceback (most recent call last)",
      "\u001b[1;32m<ipython-input-76-30a02f3a96a5>\u001b[0m in \u001b[0;36m<module>\u001b[1;34m\u001b[0m\n\u001b[0;32m      1\u001b[0m \u001b[0ma\u001b[0m \u001b[1;33m=\u001b[0m \u001b[1;33m[\u001b[0m\u001b[1;36m2\u001b[0m\u001b[1;33m,\u001b[0m \u001b[1;36m4\u001b[0m\u001b[1;33m,\u001b[0m \u001b[1;36m6\u001b[0m\u001b[1;33m,\u001b[0m \u001b[1;36m8\u001b[0m\u001b[1;33m]\u001b[0m\u001b[1;33m\u001b[0m\u001b[1;33m\u001b[0m\u001b[0m\n\u001b[1;32m----> 2\u001b[1;33m \u001b[0mb\u001b[0m \u001b[1;33m=\u001b[0m \u001b[0ma\u001b[0m\u001b[1;33m/\u001b[0m\u001b[1;36m2\u001b[0m\u001b[1;33m\u001b[0m\u001b[1;33m\u001b[0m\u001b[0m\n\u001b[0m\u001b[0;32m      3\u001b[0m \u001b[1;33m\u001b[0m\u001b[0m\n\u001b[0;32m      4\u001b[0m \u001b[0mprint\u001b[0m\u001b[1;33m(\u001b[0m\u001b[0mb\u001b[0m\u001b[1;33m)\u001b[0m\u001b[1;33m\u001b[0m\u001b[1;33m\u001b[0m\u001b[0m\n",
      "\u001b[1;31mTypeError\u001b[0m: unsupported operand type(s) for /: 'list' and 'int'"
     ]
    }
   ],
   "source": [
    "# You can't do that with lists, see example below;\n",
    "a = [2, 4, 6, 8]\n",
    "b = a/2\n",
    "\n",
    "print(b)"
   ]
  },
  {
   "cell_type": "markdown",
   "metadata": {},
   "source": [
    "### 2-D arrays:\n",
    "\n",
    "Two dimensional array is an array within an array. It is an array of arrays. In this type of array the position of a data element is referred by two indices instead of one. So it represents a table with rows and columns of data. In the example below of a two dimensional array, observe that each array element itself is also an array.\n",
    "\n",
    "Consider the example of recording temperatures 4 times a day, every day. Such data for 4 days can be presented as a two dimensional array as below."
   ]
  },
  {
   "cell_type": "code",
   "execution_count": 33,
   "metadata": {},
   "outputs": [
    {
     "data": {
      "text/plain": [
       "5"
      ]
     },
     "execution_count": 33,
     "metadata": {},
     "output_type": "execute_result"
    }
   ],
   "source": [
    "# Day 1 - 11 12 5 2 \n",
    "# Day 2 - 15 6 10 \n",
    "# Day 3 - 10 8 12 5 \n",
    "# Day 4 - 12 15 8 6 \n",
    "\n",
    "T = [[11, 12, 5, 2], [15, 6,10], [10, 8, 12, 5], [12,15,8,6]]\n",
    "\n",
    "#T[0][2]\n",
    "T[2][3]\n",
    "\n"
   ]
  },
  {
   "cell_type": "markdown",
   "metadata": {},
   "source": [
    "The data elements in two dimesnional arrays can be accessed using two indices. One index referring to the main or parent array and another index referring to the position of the data element in the inner array. If we mention only one index then the entire inner array is printed for that index position. The example below illustrates how it works."
   ]
  },
  {
   "cell_type": "code",
   "execution_count": 79,
   "metadata": {},
   "outputs": [
    {
     "name": "stdout",
     "output_type": "stream",
     "text": [
      "[11, 12, 5, 2]\n",
      "10\n",
      "2\n"
     ]
    }
   ],
   "source": [
    "T = [[11, 12, 5, 2], [15, 6,10], [10, 8, 12, 5], [12,15,8,6]]\n",
    "\n",
    "print(T[0])\n",
    "\n",
    "print(T[1][2])\n",
    "print(T[0][3])"
   ]
  },
  {
   "cell_type": "code",
   "execution_count": 36,
   "metadata": {},
   "outputs": [
    {
     "data": {
      "text/plain": [
       "[[11, 12, 5, 2], [15, 6, 10], [10, 8, 12, 5], [12, 15, 8, 6]]"
      ]
     },
     "execution_count": 36,
     "metadata": {},
     "output_type": "execute_result"
    }
   ],
   "source": [
    "T"
   ]
  },
  {
   "cell_type": "code",
   "execution_count": 35,
   "metadata": {},
   "outputs": [
    {
     "name": "stdout",
     "output_type": "stream",
     "text": [
      "[11, 12, 5, 2]\n",
      "[11, 12, 5, 2]\n",
      "[11, 12, 5, 2]\n",
      "[11, 12, 5, 2]\n",
      "[15, 6, 10]\n",
      "[15, 6, 10]\n",
      "[15, 6, 10]\n",
      "[10, 8, 12, 5]\n",
      "[10, 8, 12, 5]\n",
      "[10, 8, 12, 5]\n",
      "[10, 8, 12, 5]\n",
      "[12, 15, 8, 6]\n",
      "[12, 15, 8, 6]\n",
      "[12, 15, 8, 6]\n",
      "[12, 15, 8, 6]\n"
     ]
    }
   ],
   "source": [
    "for r in T:\n",
    "    for c in r:\n",
    "        \n",
    "#         print(c, end=' ') #end=' ' is used as space instead of a new line\n",
    "        "
   ]
  },
  {
   "cell_type": "code",
   "execution_count": 41,
   "metadata": {},
   "outputs": [
    {
     "name": "stdout",
     "output_type": "stream",
     "text": [
      "[11, 12, 5, 2] [15, 6, 10] [10, 8, 12, 5] [12, 15, 8, 6] "
     ]
    }
   ],
   "source": [
    "for r in T:\n",
    "    print(r, end=' ')"
   ]
  },
  {
   "cell_type": "code",
   "execution_count": 1,
   "metadata": {},
   "outputs": [
    {
     "name": "stdout",
     "output_type": "stream",
     "text": [
      "You can start coding \n",
      "everyday\n"
     ]
    }
   ],
   "source": [
    "print('You can start coding \\neveryday')"
   ]
  },
  {
   "cell_type": "code",
   "execution_count": null,
   "metadata": {},
   "outputs": [],
   "source": []
  }
 ],
 "metadata": {
  "kernelspec": {
   "display_name": "Python 3",
   "language": "python",
   "name": "python3"
  },
  "language_info": {
   "codemirror_mode": {
    "name": "ipython",
    "version": 3
   },
   "file_extension": ".py",
   "mimetype": "text/x-python",
   "name": "python",
   "nbconvert_exporter": "python",
   "pygments_lexer": "ipython3",
   "version": "3.8.5"
  }
 },
 "nbformat": 4,
 "nbformat_minor": 4
}
