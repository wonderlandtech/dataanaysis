{
 "cells": [
  {
   "cell_type": "markdown",
   "metadata": {},
   "source": [
    "### Tuple: is used to store multiple items in a single variable. A tuple is a collection of ordered and unchangeable items. They are are written in round brackets. \n"
   ]
  },
  {
   "cell_type": "code",
   "execution_count": 1,
   "metadata": {},
   "outputs": [
    {
     "data": {
      "text/plain": [
       "('banana', 'cherry', 'mango')"
      ]
     },
     "execution_count": 1,
     "metadata": {},
     "output_type": "execute_result"
    }
   ],
   "source": [
    "thetuple = ('banana', 'cherry', 'mango')\n",
    "thetuple"
   ]
  },
  {
   "cell_type": "code",
   "execution_count": null,
   "metadata": {},
   "outputs": [],
   "source": []
  },
  {
   "cell_type": "code",
   "execution_count": 2,
   "metadata": {},
   "outputs": [
    {
     "data": {
      "text/plain": [
       "['apple', 'mango', 'sugar', 'soursop']"
      ]
     },
     "execution_count": 2,
     "metadata": {},
     "output_type": "execute_result"
    }
   ],
   "source": [
    "#unchangebale \n",
    "\n",
    "thelist = ['apple', 'mango', 'pineapple', 'soursop']\n",
    "\n",
    "thelist[2] = 'sugar'\n",
    "thelist"
   ]
  },
  {
   "cell_type": "code",
   "execution_count": 3,
   "metadata": {},
   "outputs": [],
   "source": [
    "# thetuple = ('banana', 'cherry', 'mango')\n",
    "# thetuple[1] = 'meat'\n",
    "\n",
    "#You cannot change items inside a tuple, it is immutable but you can convert to list and change \n",
    "# them and convert back to tuples as shown below "
   ]
  },
  {
   "cell_type": "code",
   "execution_count": 4,
   "metadata": {},
   "outputs": [
    {
     "data": {
      "text/plain": [
       "['banana', 'cherry', 'mango']"
      ]
     },
     "execution_count": 4,
     "metadata": {},
     "output_type": "execute_result"
    }
   ],
   "source": [
    "# There is a method known as Python casting, this will simply manipulate and \n",
    "# change different types of data structures as shown below;\n",
    "\n",
    "thetuple\n",
    "newlist = list(thetuple)\n",
    "newlist"
   ]
  },
  {
   "cell_type": "code",
   "execution_count": 5,
   "metadata": {},
   "outputs": [
    {
     "data": {
      "text/plain": [
       "['banana', 'cherry', 'mango', 'plantain']"
      ]
     },
     "execution_count": 5,
     "metadata": {},
     "output_type": "execute_result"
    }
   ],
   "source": [
    "newlist.append('plantain')\n",
    "newlist"
   ]
  },
  {
   "cell_type": "code",
   "execution_count": 6,
   "metadata": {},
   "outputs": [
    {
     "data": {
      "text/plain": [
       "('banana', 'cherry', 'mango', 'plantain')"
      ]
     },
     "execution_count": 6,
     "metadata": {},
     "output_type": "execute_result"
    }
   ],
   "source": [
    "newtuple = tuple(newlist)\n",
    "newtuple"
   ]
  },
  {
   "cell_type": "code",
   "execution_count": 7,
   "metadata": {},
   "outputs": [
    {
     "data": {
      "text/plain": [
       "('food', 'cup', 'spoon', 'banana', 'cherry', 'mango')"
      ]
     },
     "execution_count": 7,
     "metadata": {},
     "output_type": "execute_result"
    }
   ],
   "source": [
    "# You can concatenate two tuples as shown below; \n",
    "\n",
    "thetuple = ('banana', 'cherry', 'mango')\n",
    "thistuple = ('food', 'cup', 'spoon')\n",
    "\n",
    "thistuple + thetuple"
   ]
  },
  {
   "cell_type": "code",
   "execution_count": 8,
   "metadata": {},
   "outputs": [
    {
     "data": {
      "text/plain": [
       "('banana', 'apple', 'cherry', 'mango')"
      ]
     },
     "execution_count": 8,
     "metadata": {},
     "output_type": "execute_result"
    }
   ],
   "source": [
    "thetuple = ('banana', 'cherry', 'mango')\n",
    "thislist = list(thetuple)\n",
    "\n",
    "thislist.insert(1, 'apple')\n",
    "\n",
    "thetuple = tuple(thislist)\n",
    "thetuple"
   ]
  },
  {
   "cell_type": "code",
   "execution_count": 9,
   "metadata": {},
   "outputs": [
    {
     "name": "stdout",
     "output_type": "stream",
     "text": [
      "3\n"
     ]
    }
   ],
   "source": [
    "#Using the len which signifies the number of items in a tuple\n",
    "mytuple = ('books', 'eraser', 'pencil')\n",
    "print(len(mytuple))\n"
   ]
  },
  {
   "cell_type": "code",
   "execution_count": 10,
   "metadata": {},
   "outputs": [
    {
     "name": "stdout",
     "output_type": "stream",
     "text": [
      "3\n"
     ]
    }
   ],
   "source": [
    "#tuple length\n",
    "\n",
    "thetuple = ('banana', 'cherry', 'mango')\n",
    "print(len(thetuple))"
   ]
  },
  {
   "cell_type": "code",
   "execution_count": 11,
   "metadata": {},
   "outputs": [
    {
     "data": {
      "text/plain": [
       "tuple"
      ]
     },
     "execution_count": 11,
     "metadata": {},
     "output_type": "execute_result"
    }
   ],
   "source": [
    "#Using the comma for tuples with one item\n",
    "yourtuple = ('mango',)\n",
    "type(yourtuple)"
   ]
  },
  {
   "cell_type": "code",
   "execution_count": 12,
   "metadata": {},
   "outputs": [
    {
     "data": {
      "text/plain": [
       "tuple"
      ]
     },
     "execution_count": 12,
     "metadata": {},
     "output_type": "execute_result"
    }
   ],
   "source": [
    "#tuple with one item\n",
    "\n",
    "mytuple = ('banana',)\n",
    "type(mytuple)"
   ]
  },
  {
   "cell_type": "code",
   "execution_count": 13,
   "metadata": {},
   "outputs": [
    {
     "name": "stdout",
     "output_type": "stream",
     "text": [
      "cherry\n"
     ]
    }
   ],
   "source": [
    "# Access tuple items\n",
    "thetuple = ('banana', 'cherry', 'mango')\n",
    "\n",
    "print(thetuple[1])"
   ]
  },
  {
   "cell_type": "code",
   "execution_count": 14,
   "metadata": {},
   "outputs": [
    {
     "name": "stdout",
     "output_type": "stream",
     "text": [
      "mango\n"
     ]
    }
   ],
   "source": [
    "print(thetuple[-1])"
   ]
  },
  {
   "cell_type": "code",
   "execution_count": 15,
   "metadata": {},
   "outputs": [
    {
     "name": "stdout",
     "output_type": "stream",
     "text": [
      "('cherry', 'mango')\n"
     ]
    }
   ],
   "source": [
    "print(thetuple[-2:])"
   ]
  },
  {
   "cell_type": "code",
   "execution_count": 16,
   "metadata": {},
   "outputs": [
    {
     "name": "stdout",
     "output_type": "stream",
     "text": [
      "('banana', 'cherry')\n"
     ]
    }
   ],
   "source": [
    "print(thetuple[-3:-1])"
   ]
  },
  {
   "cell_type": "code",
   "execution_count": 17,
   "metadata": {},
   "outputs": [
    {
     "name": "stdout",
     "output_type": "stream",
     "text": [
      "('banana', 'cherry', 'mango')\n"
     ]
    }
   ],
   "source": [
    "thetuple = ('banana', 'cherry', 'mango')\n",
    "print(thetuple[:10])"
   ]
  },
  {
   "cell_type": "code",
   "execution_count": 18,
   "metadata": {},
   "outputs": [
    {
     "name": "stdout",
     "output_type": "stream",
     "text": [
      "('banana', 'cherry', 'mango')\n"
     ]
    }
   ],
   "source": [
    "print(thetuple[-3:])"
   ]
  },
  {
   "cell_type": "code",
   "execution_count": 19,
   "metadata": {},
   "outputs": [
    {
     "name": "stdout",
     "output_type": "stream",
     "text": [
      "('mango',)\n"
     ]
    }
   ],
   "source": [
    "print(thetuple[-1:])"
   ]
  },
  {
   "cell_type": "code",
   "execution_count": 20,
   "metadata": {},
   "outputs": [
    {
     "name": "stdout",
     "output_type": "stream",
     "text": [
      "('banana', 'cherry')\n"
     ]
    }
   ],
   "source": [
    "print(thetuple[-3:-1])"
   ]
  },
  {
   "cell_type": "code",
   "execution_count": 21,
   "metadata": {},
   "outputs": [
    {
     "name": "stdout",
     "output_type": "stream",
     "text": [
      "Yes, there is an orange here\n"
     ]
    }
   ],
   "source": [
    "# Using the in keyword: Usually, you use the in keyword with the if function;  \n",
    "\n",
    "thistuple = ('banana', 'cherry', 'mango', 'soursop', 'orange', 'grape')\n",
    "if 'orange' in thistuple:\n",
    "    print('Yes, there is an orange here')\n",
    "else:\n",
    "    print('No, it is not there')\n"
   ]
  },
  {
   "cell_type": "code",
   "execution_count": 22,
   "metadata": {},
   "outputs": [
    {
     "name": "stdout",
     "output_type": "stream",
     "text": [
      "No, it is not there\n"
     ]
    }
   ],
   "source": [
    "thistuple = ('banana', 'cherry', 'mango', 'soursop', 'orange', 'grape')\n",
    "if 'shoe' in thistuple:\n",
    "    print('Yes, there is a shoe here')\n",
    "else:\n",
    "    print('No, it is not there')"
   ]
  },
  {
   "cell_type": "code",
   "execution_count": 23,
   "metadata": {},
   "outputs": [
    {
     "name": "stdout",
     "output_type": "stream",
     "text": [
      "No, there is no sugar\n"
     ]
    }
   ],
   "source": [
    "if 'sugar' in thistuple:\n",
    "    print(\"Yes there is sugar\")\n",
    "else:\n",
    "    print(\"No, there is no sugar\")"
   ]
  },
  {
   "cell_type": "markdown",
   "metadata": {},
   "source": [
    "##### Unpacking a tuple: \n",
    "\n",
    "this means assigning variables to items in a tuple."
   ]
  },
  {
   "cell_type": "code",
   "execution_count": 24,
   "metadata": {},
   "outputs": [
    {
     "name": "stdout",
     "output_type": "stream",
     "text": [
      "car garden\n"
     ]
    }
   ],
   "source": [
    "ourtuple = ('car', 'house', 'garden')\n",
    "\n",
    "(brown, yellow, indigo) = ourtuple\n",
    "\n",
    "#print(ourtuple)\n",
    "print(brown,indigo)"
   ]
  },
  {
   "cell_type": "code",
   "execution_count": 25,
   "metadata": {},
   "outputs": [
    {
     "name": "stdout",
     "output_type": "stream",
     "text": [
      "banana apple carrot\n"
     ]
    }
   ],
   "source": [
    "\n",
    "thetuple = ('banana', 'apple', 'carrot')\n",
    "\n",
    "(yellow, green, red) = thetuple \n",
    "\n",
    "print(yellow, green, red)"
   ]
  },
  {
   "cell_type": "code",
   "execution_count": 26,
   "metadata": {},
   "outputs": [
    {
     "name": "stdout",
     "output_type": "stream",
     "text": [
      "banana yam ['egg', 'soursop', 'apple', 'vegetable']\n"
     ]
    }
   ],
   "source": [
    "# Using the asterisk (*)\n",
    "thetuple1 = ('banana', 'yam', 'egg', 'soursop', 'apple', 'vegetable')\n",
    "(yellow, brown, *white) = thetuple1\n",
    "\n",
    "print(yellow, brown, white)"
   ]
  },
  {
   "cell_type": "code",
   "execution_count": 27,
   "metadata": {},
   "outputs": [
    {
     "name": "stdout",
     "output_type": "stream",
     "text": [
      "['banana', 'yam', 'egg', 'soursop'] apple vegetable\n"
     ]
    }
   ],
   "source": [
    "thetuple1 = ('banana', 'yam', 'egg', 'soursop', 'apple', 'vegetable')\n",
    "(*yellow, brown, white) = thetuple1\n",
    "\n",
    "print(yellow, brown, white)\n",
    "\n"
   ]
  },
  {
   "cell_type": "code",
   "execution_count": 28,
   "metadata": {},
   "outputs": [
    {
     "name": "stdout",
     "output_type": "stream",
     "text": [
      "banana ['yam', 'egg', 'soursop', 'apple'] vegetable\n"
     ]
    }
   ],
   "source": [
    "thetuple1 = ('banana', 'yam', 'egg', 'soursop', 'apple', 'vegetable')\n",
    "(yellow, *brown, white) = thetuple1\n",
    "\n",
    "print(yellow,brown,white)"
   ]
  },
  {
   "cell_type": "code",
   "execution_count": 29,
   "metadata": {},
   "outputs": [
    {
     "name": "stdout",
     "output_type": "stream",
     "text": [
      "banana cherry ['mango', 'soursop', 'orange', 'grape']\n"
     ]
    }
   ],
   "source": [
    "# Using the asterisk contd (*)\n",
    "thistuple = ('banana', 'cherry', 'mango', 'soursop', 'orange', 'grape')\n",
    "\n",
    "(green, red, *blue) = thistuple\n",
    "\n",
    "print(green, red, blue)"
   ]
  },
  {
   "cell_type": "code",
   "execution_count": 30,
   "metadata": {},
   "outputs": [
    {
     "name": "stdout",
     "output_type": "stream",
     "text": [
      "['banana', 'cherry', 'mango', 'soursop'] orange grape\n"
     ]
    }
   ],
   "source": [
    "thistuple = ('banana', 'cherry', 'mango', 'soursop', 'orange', 'grape')\n",
    "\n",
    "(*green, red, blue) = thistuple\n",
    "\n",
    "print(green, red, blue)"
   ]
  },
  {
   "cell_type": "code",
   "execution_count": 31,
   "metadata": {},
   "outputs": [
    {
     "name": "stdout",
     "output_type": "stream",
     "text": [
      "banana\n",
      "cherry\n",
      "mango\n",
      "soursop\n",
      "orange\n",
      "grape\n"
     ]
    }
   ],
   "source": [
    "# Looping tuples\n",
    "\n",
    "thistuple = ('banana', 'cherry', 'mango', 'soursop', 'orange', 'grape')\n",
    "for i in thistuple:\n",
    "    print(i)\n"
   ]
  },
  {
   "cell_type": "code",
   "execution_count": 32,
   "metadata": {},
   "outputs": [
    {
     "name": "stdout",
     "output_type": "stream",
     "text": [
      "banana\n",
      "cherry\n",
      "mango\n",
      "soursop\n",
      "orange\n",
      "grape\n"
     ]
    }
   ],
   "source": [
    "# Using the len function in for loop\n",
    "\n",
    "for i in range(len(thistuple)):\n",
    "    print(thistuple[i])\n",
    "    "
   ]
  },
  {
   "cell_type": "code",
   "execution_count": 33,
   "metadata": {},
   "outputs": [
    {
     "name": "stdout",
     "output_type": "stream",
     "text": [
      "0\n",
      "1\n",
      "2\n",
      "3\n",
      "4\n",
      "5\n"
     ]
    }
   ],
   "source": [
    "for i in range(len(thistuple)):\n",
    "    print(i)"
   ]
  },
  {
   "cell_type": "code",
   "execution_count": 34,
   "metadata": {},
   "outputs": [
    {
     "data": {
      "text/plain": [
       "6"
      ]
     },
     "execution_count": 34,
     "metadata": {},
     "output_type": "execute_result"
    }
   ],
   "source": [
    "len(thistuple)"
   ]
  },
  {
   "cell_type": "code",
   "execution_count": 35,
   "metadata": {},
   "outputs": [
    {
     "name": "stdout",
     "output_type": "stream",
     "text": [
      "banana\n",
      "cherry\n",
      "mango\n",
      "soursop\n",
      "orange\n",
      "grape\n"
     ]
    }
   ],
   "source": [
    "a = 0 \n",
    "while a < len(thistuple):\n",
    "    print(thistuple[a])\n",
    "    a+=1 # a = a+1\n",
    "    \n",
    "    "
   ]
  },
  {
   "cell_type": "code",
   "execution_count": 36,
   "metadata": {},
   "outputs": [],
   "source": [
    "# Using the while loop on tuples\n",
    "\n",
    "# a = 0 \n",
    "# while a < len(thistuple):\n",
    "#     print(thistuple[a])\n",
    "#     break\n",
    "#     i+=1 #this means that you should add 1 to each level as long as it is less than thistuple \n",
    "#     # which is 6 but once it exceeds 6, it should exit the loop \n"
   ]
  },
  {
   "cell_type": "code",
   "execution_count": 37,
   "metadata": {},
   "outputs": [
    {
     "data": {
      "text/plain": [
       "1"
      ]
     },
     "execution_count": 37,
     "metadata": {},
     "output_type": "execute_result"
    }
   ],
   "source": [
    "#Tuple methods \n",
    "\n",
    "#count()\n",
    "\n",
    "#syntax: tuple.count(item)\n",
    "\n",
    "thistuple.count('orange')\n"
   ]
  },
  {
   "cell_type": "code",
   "execution_count": 38,
   "metadata": {},
   "outputs": [
    {
     "data": {
      "text/plain": [
       "4"
      ]
     },
     "execution_count": 38,
     "metadata": {},
     "output_type": "execute_result"
    }
   ],
   "source": [
    "\n",
    "a = ('jeans', 'shirt', 'belt', 'tie', 'jeans', 'shoe', 'jeans', 'jeans')\n",
    "\n",
    "a.count('jeans')"
   ]
  },
  {
   "cell_type": "markdown",
   "metadata": {},
   "source": [
    "### Sets: the items in a set are unordeed and unindexed "
   ]
  },
  {
   "cell_type": "code",
   "execution_count": 39,
   "metadata": {},
   "outputs": [
    {
     "name": "stdout",
     "output_type": "stream",
     "text": [
      "{'beans', 'rice', 'oil', 'water', 'pepper', 'garri'}\n",
      "{'socks', 'lace', 'comb', 'shoe'}\n"
     ]
    }
   ],
   "source": [
    "seta = {'beans', 'rice', 'garri', 'water', 'oil', 'pepper', 'rice'}\n",
    "print(seta)\n",
    "\n",
    "setb = {'shoe', 'lace', 'socks', 'comb'}\n",
    "print(setb)\n"
   ]
  },
  {
   "cell_type": "markdown",
   "metadata": {},
   "source": [
    "### Methods"
   ]
  },
  {
   "cell_type": "code",
   "execution_count": 40,
   "metadata": {},
   "outputs": [
    {
     "data": {
      "text/plain": [
       "{'beans', 'fish', 'garri', 'oil', 'pepper', 'rice', 'water'}"
      ]
     },
     "execution_count": 40,
     "metadata": {},
     "output_type": "execute_result"
    }
   ],
   "source": [
    "#add \n",
    "\n",
    "a = {'beans', 'rice', 'garri', 'water', 'oil', 'pepper', 'rice'}\n",
    "a.add('fish')\n",
    "a"
   ]
  },
  {
   "cell_type": "code",
   "execution_count": 41,
   "metadata": {},
   "outputs": [
    {
     "data": {
      "text/plain": [
       "{'beans', 'fish', 'garri', 'oil', 'pepper', 'rice', 'water', 'yam'}"
      ]
     },
     "execution_count": 41,
     "metadata": {},
     "output_type": "execute_result"
    }
   ],
   "source": [
    "a.add('yam')\n",
    "a"
   ]
  },
  {
   "cell_type": "code",
   "execution_count": 42,
   "metadata": {},
   "outputs": [
    {
     "data": {
      "text/plain": [
       "set()"
      ]
     },
     "execution_count": 42,
     "metadata": {},
     "output_type": "execute_result"
    }
   ],
   "source": [
    "#clear(): this will erase all items within a set \n",
    "b = {'yam', 'rice', 'flour', 'water', 'cassava', 'potato', 'noodles'}\n",
    "b.clear()\n",
    "b"
   ]
  },
  {
   "cell_type": "code",
   "execution_count": 43,
   "metadata": {},
   "outputs": [
    {
     "data": {
      "text/plain": [
       "{'cherry'}"
      ]
     },
     "execution_count": 43,
     "metadata": {},
     "output_type": "execute_result"
    }
   ],
   "source": [
    "#difference: this will return a set that contains items in the first set and not in the second\n",
    "# set\n",
    "\n",
    "x = {'apple', 'banana', 'cherry'}\n",
    "\n",
    "y = {'google', 'microsoft', 'apple', 'banana'}\n",
    "\n",
    "x.difference(y)"
   ]
  },
  {
   "cell_type": "code",
   "execution_count": 44,
   "metadata": {},
   "outputs": [
    {
     "data": {
      "text/plain": [
       "{'banana', 'google', 'microsoft'}"
      ]
     },
     "execution_count": 44,
     "metadata": {},
     "output_type": "execute_result"
    }
   ],
   "source": [
    "#discard: this removes a specified item from a set \n",
    "\n",
    "y = {'google', 'microsoft', 'apple', 'banana'}\n",
    "\n",
    "y.discard('apple')\n",
    "y\n"
   ]
  },
  {
   "cell_type": "code",
   "execution_count": 45,
   "metadata": {},
   "outputs": [
    {
     "data": {
      "text/plain": [
       "{'apple', 'banana'}"
      ]
     },
     "execution_count": 45,
     "metadata": {},
     "output_type": "execute_result"
    }
   ],
   "source": [
    "# intersection: returns a set that contains the items in both sets\n",
    "\n",
    "x = {'apple', 'banana', 'cherry'}\n",
    "\n",
    "y = {'google', 'microsoft', 'apple', 'banana'}\n",
    "\n",
    "x.intersection(y)"
   ]
  },
  {
   "cell_type": "code",
   "execution_count": 46,
   "metadata": {},
   "outputs": [
    {
     "data": {
      "text/plain": [
       "{'apple'}"
      ]
     },
     "execution_count": 46,
     "metadata": {},
     "output_type": "execute_result"
    }
   ],
   "source": [
    "x = {'apple', 'banana', 'cherry'}\n",
    "\n",
    "y = {'google', 'microsoft', 'apple', 'banana'}\n",
    "\n",
    "z = {'apple', 'cucumber', 'carrot'}\n",
    "\n",
    "x.intersection(y,z)"
   ]
  },
  {
   "cell_type": "code",
   "execution_count": 47,
   "metadata": {},
   "outputs": [
    {
     "data": {
      "text/plain": [
       "{'apple', 'banana', 'cherry', 'google', 'microsoft'}"
      ]
     },
     "execution_count": 47,
     "metadata": {},
     "output_type": "execute_result"
    }
   ],
   "source": [
    "# union: returns a set that contains all items from both sets, duplicates are excluded \n",
    "\n",
    "x = {'apple', 'banana', 'cherry'}\n",
    "\n",
    "y = {'google', 'microsoft', 'apple', 'banana'}\n",
    "\n",
    "x.union(y)\n"
   ]
  },
  {
   "cell_type": "code",
   "execution_count": 48,
   "metadata": {},
   "outputs": [
    {
     "data": {
      "text/plain": [
       "{'apple', 'banana', 'cherry', 'google', 'microsoft'}"
      ]
     },
     "execution_count": 48,
     "metadata": {},
     "output_type": "execute_result"
    }
   ],
   "source": [
    "#update: insert the items from a set into another set\n",
    "\n",
    "x = {'apple', 'banana', 'cherry'}\n",
    "\n",
    "y = {'google', 'microsoft', 'apple', 'banana'}\n",
    "\n",
    "x.update(y)\n",
    "x"
   ]
  },
  {
   "cell_type": "code",
   "execution_count": 49,
   "metadata": {},
   "outputs": [
    {
     "data": {
      "text/plain": [
       "{'almera', 'honda', 'prado', 'suv', 'toyota'}"
      ]
     },
     "execution_count": 49,
     "metadata": {},
     "output_type": "execute_result"
    }
   ],
   "source": [
    "# Sets usually removes duplicates \n",
    "dset = {'honda', 'toyota', 'suv', 'almera', 'honda', 'prado', 'suv'}\n",
    "dset"
   ]
  },
  {
   "cell_type": "markdown",
   "metadata": {},
   "source": [
    "### Dictionary: this is used to store data values in key:value pairs. It is a collection of items which are ordered, changeable and does not allow duplicates "
   ]
  },
  {
   "cell_type": "code",
   "execution_count": 88,
   "metadata": {},
   "outputs": [
    {
     "name": "stdout",
     "output_type": "stream",
     "text": [
      "{'church1': 'Adult', 'church2': 'Teens', 'church3': 'children'}\n",
      "{'student1': '100L', 'student2': '200L', 'student3': '300L', 'student4': '400L'}\n"
     ]
    }
   ],
   "source": [
    "# Example 1; \n",
    "onedict = {'church1':'Adult', 'church2': 'Teens', 'church3': 'children'}\n",
    "\n",
    "twodict = {'student1': '100L', 'student2': '200L', 'student3': '300L', 'student4': '400L'}\n",
    "\n",
    "print(onedict)\n",
    "print(twodict)"
   ]
  },
  {
   "cell_type": "code",
   "execution_count": 89,
   "metadata": {},
   "outputs": [
    {
     "data": {
      "text/plain": [
       "{'brand': 'Ford', 'model': 'Mustang', 'year': 2004}"
      ]
     },
     "execution_count": 89,
     "metadata": {},
     "output_type": "execute_result"
    }
   ],
   "source": [
    "# Example 2\n",
    "thisdict = {'brand': 'Ford', \n",
    "            'model': 'Mustang', \n",
    "            'year': 2004}\n",
    "thisdict\n"
   ]
  },
  {
   "cell_type": "markdown",
   "metadata": {},
   "source": [
    "#### Accessing the items in a Dict by the names of the keys"
   ]
  },
  {
   "cell_type": "code",
   "execution_count": 93,
   "metadata": {},
   "outputs": [
    {
     "data": {
      "text/plain": [
       "'children'"
      ]
     },
     "execution_count": 93,
     "metadata": {},
     "output_type": "execute_result"
    }
   ],
   "source": [
    "onedict['church3']"
   ]
  },
  {
   "cell_type": "code",
   "execution_count": 94,
   "metadata": {},
   "outputs": [
    {
     "data": {
      "text/plain": [
       "'Mustang'"
      ]
     },
     "execution_count": 94,
     "metadata": {},
     "output_type": "execute_result"
    }
   ],
   "source": [
    "\n",
    "thisdict['model']"
   ]
  },
  {
   "cell_type": "code",
   "execution_count": 95,
   "metadata": {},
   "outputs": [
    {
     "data": {
      "text/plain": [
       "2004"
      ]
     },
     "execution_count": 95,
     "metadata": {},
     "output_type": "execute_result"
    }
   ],
   "source": [
    "thisdict['year']"
   ]
  },
  {
   "cell_type": "code",
   "execution_count": 102,
   "metadata": {},
   "outputs": [
    {
     "data": {
      "text/plain": [
       "'Ford'"
      ]
     },
     "execution_count": 102,
     "metadata": {},
     "output_type": "execute_result"
    }
   ],
   "source": [
    "# Using the get method\n",
    "thisdict.get('brand')"
   ]
  },
  {
   "cell_type": "markdown",
   "metadata": {},
   "source": [
    "##### Updating items in a dict: It will usually return the last duplicate key:value pair"
   ]
  },
  {
   "cell_type": "code",
   "execution_count": 100,
   "metadata": {},
   "outputs": [
    {
     "data": {
      "text/plain": [
       "20"
      ]
     },
     "execution_count": 100,
     "metadata": {},
     "output_type": "execute_result"
    }
   ],
   "source": [
    "a = 10\n",
    "a = 20\n",
    "a"
   ]
  },
  {
   "cell_type": "code",
   "execution_count": 98,
   "metadata": {},
   "outputs": [
    {
     "data": {
      "text/plain": [
       "{'church1': 'Adult', 'church2': 'Young adults', 'church3': 'children'}"
      ]
     },
     "execution_count": 98,
     "metadata": {},
     "output_type": "execute_result"
    }
   ],
   "source": [
    "# First example\n",
    "onedict = {'church1':'Adult', 'church2': \n",
    "           'Teens', 'church3': 'children', \n",
    "           'church2': 'Young adults'}\n",
    "onedict"
   ]
  },
  {
   "cell_type": "code",
   "execution_count": 101,
   "metadata": {},
   "outputs": [
    {
     "data": {
      "text/plain": [
       "{'brand': 'Ford', 'model': 'Honda', 'year': 2004}"
      ]
     },
     "execution_count": 101,
     "metadata": {},
     "output_type": "execute_result"
    }
   ],
   "source": [
    " \n",
    "thisdict = {'brand': 'Ford', \n",
    "            'model': 'Mustang', \n",
    "            'year': 2004, \n",
    "            'model': 'Honda'\n",
    "           }\n",
    "thisdict"
   ]
  },
  {
   "cell_type": "code",
   "execution_count": 54,
   "metadata": {},
   "outputs": [
    {
     "data": {
      "text/plain": [
       "'Honda'"
      ]
     },
     "execution_count": 54,
     "metadata": {},
     "output_type": "execute_result"
    }
   ],
   "source": [
    "# Accessing items in the dictionary\n",
    "thisdict['model']"
   ]
  },
  {
   "cell_type": "code",
   "execution_count": 55,
   "metadata": {},
   "outputs": [
    {
     "data": {
      "text/plain": [
       "2004"
      ]
     },
     "execution_count": 55,
     "metadata": {},
     "output_type": "execute_result"
    }
   ],
   "source": [
    "# Using the get(): this will also access the values of the keys \n",
    "thisdict.get('year')"
   ]
  },
  {
   "cell_type": "markdown",
   "metadata": {},
   "source": [
    "##### Accessing the keys and values in the dictionary "
   ]
  },
  {
   "cell_type": "code",
   "execution_count": 103,
   "metadata": {},
   "outputs": [
    {
     "data": {
      "text/plain": [
       "dict_keys(['church1', 'church2', 'church3'])"
      ]
     },
     "execution_count": 103,
     "metadata": {},
     "output_type": "execute_result"
    }
   ],
   "source": [
    "onedict.keys()"
   ]
  },
  {
   "cell_type": "code",
   "execution_count": 56,
   "metadata": {},
   "outputs": [
    {
     "data": {
      "text/plain": [
       "dict_keys(['brand', 'model', 'year'])"
      ]
     },
     "execution_count": 56,
     "metadata": {},
     "output_type": "execute_result"
    }
   ],
   "source": [
    "\n",
    "\n",
    "thisdict.keys()"
   ]
  },
  {
   "cell_type": "code",
   "execution_count": 104,
   "metadata": {},
   "outputs": [
    {
     "data": {
      "text/plain": [
       "dict_values(['Adult', 'Young adults', 'children'])"
      ]
     },
     "execution_count": 104,
     "metadata": {},
     "output_type": "execute_result"
    }
   ],
   "source": [
    "onedict.values()"
   ]
  },
  {
   "cell_type": "code",
   "execution_count": 107,
   "metadata": {},
   "outputs": [
    {
     "data": {
      "text/plain": [
       "dict_items([('church1', 'Adult'), ('church2', 'Young adults'), ('church3', 'children')])"
      ]
     },
     "execution_count": 107,
     "metadata": {},
     "output_type": "execute_result"
    }
   ],
   "source": [
    "onedict.items()"
   ]
  },
  {
   "cell_type": "code",
   "execution_count": 57,
   "metadata": {},
   "outputs": [
    {
     "data": {
      "text/plain": [
       "{'brand': 'Ford', 'model': 'Honda', 'year': 2004}"
      ]
     },
     "execution_count": 57,
     "metadata": {},
     "output_type": "execute_result"
    }
   ],
   "source": [
    "\n",
    "\n",
    "thisdict"
   ]
  },
  {
   "cell_type": "markdown",
   "metadata": {},
   "source": [
    "#### Adding an item to a dictionary"
   ]
  },
  {
   "cell_type": "code",
   "execution_count": 110,
   "metadata": {},
   "outputs": [
    {
     "data": {
      "text/plain": [
       "{'church1': 'Adult',\n",
       " 'church2': 'Young adults',\n",
       " 'church3': 'children',\n",
       " 'church4': 'Ministers'}"
      ]
     },
     "execution_count": 110,
     "metadata": {},
     "output_type": "execute_result"
    }
   ],
   "source": [
    "onedict['church4'] = 'Ministers'\n",
    "onedict"
   ]
  },
  {
   "cell_type": "code",
   "execution_count": 111,
   "metadata": {},
   "outputs": [
    {
     "data": {
      "text/plain": [
       "{'brand': 'Ford', 'model': 'Honda', 'year': 2004, 'color': 'blue'}"
      ]
     },
     "execution_count": 111,
     "metadata": {},
     "output_type": "execute_result"
    }
   ],
   "source": [
    "# syntax; variable[new key] = 'new value'\n",
    "thisdict['color'] = 'blue'\n",
    "thisdict"
   ]
  },
  {
   "cell_type": "code",
   "execution_count": 113,
   "metadata": {},
   "outputs": [
    {
     "data": {
      "text/plain": [
       "{'church1': 'Adult',\n",
       " 'church2': 'Young adults',\n",
       " 'church3': 'children',\n",
       " 'church5': ' '}"
      ]
     },
     "execution_count": 113,
     "metadata": {},
     "output_type": "execute_result"
    }
   ],
   "source": [
    "onedict = {'church1':'Adult', 'church2': \n",
    "           'Teens', 'church3': 'children', \n",
    "           'church2': 'Young adults', \n",
    "          'church5': ' '}\n",
    "onedict"
   ]
  },
  {
   "cell_type": "code",
   "execution_count": 59,
   "metadata": {},
   "outputs": [
    {
     "data": {
      "text/plain": [
       "{'brand': 'Ford', 'model': 'Honda', 'year': 2004, 'color': 'blue'}"
      ]
     },
     "execution_count": 59,
     "metadata": {},
     "output_type": "execute_result"
    }
   ],
   "source": [
    "thisdict"
   ]
  },
  {
   "cell_type": "code",
   "execution_count": 60,
   "metadata": {},
   "outputs": [
    {
     "data": {
      "text/plain": [
       "dict_values(['Ford', 'Honda', 2004, 'blue'])"
      ]
     },
     "execution_count": 60,
     "metadata": {},
     "output_type": "execute_result"
    }
   ],
   "source": [
    "# Getting all the values at the same time by using the method values()\n",
    "\n",
    "thisdict.values()"
   ]
  },
  {
   "cell_type": "code",
   "execution_count": 61,
   "metadata": {},
   "outputs": [
    {
     "data": {
      "text/plain": [
       "dict_items([('brand', 'Ford'), ('model', 'Honda'), ('year', 2004), ('color', 'blue')])"
      ]
     },
     "execution_count": 61,
     "metadata": {},
     "output_type": "execute_result"
    }
   ],
   "source": [
    "# Getting all the items in the dictionary by using the method items()\n",
    "\n",
    "thisdict.items()"
   ]
  },
  {
   "cell_type": "markdown",
   "metadata": {},
   "source": [
    "#### Checking if a key exists in a dictionary, it checks the key not the value. "
   ]
  },
  {
   "cell_type": "code",
   "execution_count": 114,
   "metadata": {},
   "outputs": [
    {
     "name": "stdout",
     "output_type": "stream",
     "text": [
      "Yes, there is\n",
      "Oh yeah\n"
     ]
    }
   ],
   "source": [
    "if 'church3' in onedict:\n",
    "    print('Yes, there is')\n",
    "else:\n",
    "    print('None')\n",
    "if 'church2' in onedict:\n",
    "    print('Oh yeah')"
   ]
  },
  {
   "cell_type": "code",
   "execution_count": 115,
   "metadata": {},
   "outputs": [
    {
     "name": "stdout",
     "output_type": "stream",
     "text": [
      "nah\n"
     ]
    }
   ],
   "source": [
    "if 'Teens' in onedict:\n",
    "    print('Yeah')\n",
    "else:\n",
    "    print('nah')"
   ]
  },
  {
   "cell_type": "code",
   "execution_count": 62,
   "metadata": {},
   "outputs": [
    {
     "name": "stdout",
     "output_type": "stream",
     "text": [
      "yes, model exists in thisdict\n",
      "No\n"
     ]
    }
   ],
   "source": [
    "\n",
    "\n",
    "if 'model' in thisdict:\n",
    "    print('yes, model exists in thisdict')\n",
    "    \n",
    "if 'ford' in thisdict:\n",
    "    print('Yes, ford exists')\n",
    "else:\n",
    "    print('No')"
   ]
  },
  {
   "cell_type": "code",
   "execution_count": 63,
   "metadata": {},
   "outputs": [
    {
     "name": "stdout",
     "output_type": "stream",
     "text": [
      "food does not exist\n"
     ]
    }
   ],
   "source": [
    "if 'food' in thisdict:\n",
    "    print('yes food exists in thisdict')\n",
    "else: \n",
    "    print('food does not exist')"
   ]
  },
  {
   "cell_type": "code",
   "execution_count": 64,
   "metadata": {},
   "outputs": [
    {
     "data": {
      "text/plain": [
       "{'brand': 'Ford', 'model': 'Honda', 'year': 2004, 'color': 'red'}"
      ]
     },
     "execution_count": 64,
     "metadata": {},
     "output_type": "execute_result"
    }
   ],
   "source": [
    "#Changing items in a dictionary\n",
    "thisdict['color'] = 'red'\n",
    "thisdict"
   ]
  },
  {
   "cell_type": "markdown",
   "metadata": {},
   "source": [
    "#### Another way of changing items in a dictionary is by using the method update()"
   ]
  },
  {
   "cell_type": "code",
   "execution_count": 120,
   "metadata": {},
   "outputs": [
    {
     "data": {
      "text/plain": [
       "{'church1': 'Adult', 'church2': 'Young adults', 'church5': 'Pastors'}"
      ]
     },
     "execution_count": 120,
     "metadata": {},
     "output_type": "execute_result"
    }
   ],
   "source": [
    "onedict.update({'church5': 'Pastors'})\n",
    "onedict"
   ]
  },
  {
   "cell_type": "code",
   "execution_count": 65,
   "metadata": {},
   "outputs": [
    {
     "data": {
      "text/plain": [
       "{'brand': 'Toyota', 'model': 'Honda', 'year': 2004, 'color': 'red'}"
      ]
     },
     "execution_count": 65,
     "metadata": {},
     "output_type": "execute_result"
    }
   ],
   "source": [
    "\n",
    "\n",
    "thisdict.update({'brand': 'Toyota'}) \n",
    "thisdict"
   ]
  },
  {
   "cell_type": "code",
   "execution_count": 66,
   "metadata": {},
   "outputs": [
    {
     "data": {
      "text/plain": [
       "{'brand': 'Toyota',\n",
       " 'model': 'Honda',\n",
       " 'year': 2004,\n",
       " 'color': 'red',\n",
       " 'driver': 'tall'}"
      ]
     },
     "execution_count": 66,
     "metadata": {},
     "output_type": "execute_result"
    }
   ],
   "source": [
    "thisdict['driver'] = 'tall'\n",
    "thisdict"
   ]
  },
  {
   "cell_type": "markdown",
   "metadata": {},
   "source": [
    "#### Removing items in the dictionary using the method pop(), it will remove both the key and values"
   ]
  },
  {
   "cell_type": "code",
   "execution_count": 121,
   "metadata": {},
   "outputs": [
    {
     "data": {
      "text/plain": [
       "{'church1': 'Adult', 'church2': 'Young adults'}"
      ]
     },
     "execution_count": 121,
     "metadata": {},
     "output_type": "execute_result"
    }
   ],
   "source": [
    "# Using the pop() method;\n",
    "onedict.pop('church5')\n",
    "onedict"
   ]
  },
  {
   "cell_type": "code",
   "execution_count": 67,
   "metadata": {},
   "outputs": [
    {
     "data": {
      "text/plain": [
       "{'brand': 'Toyota',\n",
       " 'model': 'Honda',\n",
       " 'year': 2004,\n",
       " 'color': 'red',\n",
       " 'driver': 'tall'}"
      ]
     },
     "execution_count": 67,
     "metadata": {},
     "output_type": "execute_result"
    }
   ],
   "source": [
    "thisdict"
   ]
  },
  {
   "cell_type": "code",
   "execution_count": 68,
   "metadata": {},
   "outputs": [
    {
     "data": {
      "text/plain": [
       "{'brand': 'Toyota', 'model': 'Honda', 'year': 2004, 'color': 'red'}"
      ]
     },
     "execution_count": 68,
     "metadata": {},
     "output_type": "execute_result"
    }
   ],
   "source": [
    "thisdict.pop('driver')\n",
    "thisdict"
   ]
  },
  {
   "cell_type": "code",
   "execution_count": 122,
   "metadata": {},
   "outputs": [
    {
     "data": {
      "text/plain": [
       "{'church1': 'Adult'}"
      ]
     },
     "execution_count": 122,
     "metadata": {},
     "output_type": "execute_result"
    }
   ],
   "source": [
    "# Example 1: Using the popitem() method; this usually removes the last item\n",
    "onedict.popitem()\n",
    "onedict"
   ]
  },
  {
   "cell_type": "code",
   "execution_count": 69,
   "metadata": {},
   "outputs": [
    {
     "data": {
      "text/plain": [
       "{'brand': 'Toyota', 'model': 'Honda', 'year': 2004}"
      ]
     },
     "execution_count": 69,
     "metadata": {},
     "output_type": "execute_result"
    }
   ],
   "source": [
    "# Exmple 2: Using the popitem(): this will remove the last item (key value:pair)\n",
    "\n",
    "thisdict.popitem()\n",
    "thisdict"
   ]
  },
  {
   "cell_type": "code",
   "execution_count": 70,
   "metadata": {},
   "outputs": [
    {
     "data": {
      "text/plain": [
       "{'brand': 'Toyota', 'year': 2004}"
      ]
     },
     "execution_count": 70,
     "metadata": {},
     "output_type": "execute_result"
    }
   ],
   "source": [
    "# using the del: this will delete a specified key value pair inside a dictinary\n",
    "\n",
    "del thisdict['model']\n",
    "thisdict\n"
   ]
  },
  {
   "cell_type": "code",
   "execution_count": 71,
   "metadata": {},
   "outputs": [
    {
     "data": {
      "text/plain": [
       "{}"
      ]
     },
     "execution_count": 71,
     "metadata": {},
     "output_type": "execute_result"
    }
   ],
   "source": [
    "# Using the clear(): this removes everything \n",
    "\n",
    "thisdict.clear()\n",
    "thisdict"
   ]
  },
  {
   "cell_type": "code",
   "execution_count": 72,
   "metadata": {},
   "outputs": [
    {
     "data": {
      "text/plain": [
       "{}"
      ]
     },
     "execution_count": 72,
     "metadata": {},
     "output_type": "execute_result"
    }
   ],
   "source": [
    "thisdict"
   ]
  },
  {
   "cell_type": "code",
   "execution_count": 123,
   "metadata": {},
   "outputs": [
    {
     "data": {
      "text/plain": [
       "{}"
      ]
     },
     "execution_count": 123,
     "metadata": {},
     "output_type": "execute_result"
    }
   ],
   "source": [
    "onedict.clear()\n",
    "onedict"
   ]
  },
  {
   "cell_type": "code",
   "execution_count": 73,
   "metadata": {},
   "outputs": [
    {
     "name": "stdout",
     "output_type": "stream",
     "text": [
      "google\n",
      "laptop\n",
      "microsoft\n",
      "apple\n",
      "banana\n",
      "software\n"
     ]
    }
   ],
   "source": [
    "# Looping dictionaries \n",
    "\n",
    "thedict= {'google': 'interet', 'laptop':'office', 'microsoft':'company', \n",
    "          'apple':'company', 'banana': 'fruit', 'software': 'computer'}\n",
    "\n",
    "for x in thedict:\n",
    "    print(x)"
   ]
  },
  {
   "cell_type": "code",
   "execution_count": 129,
   "metadata": {},
   "outputs": [
    {
     "name": "stdout",
     "output_type": "stream",
     "text": [
      "('google', 'interet')\n",
      "('laptop', 'office')\n",
      "('microsoft', 'company')\n",
      "('apple', 'company')\n",
      "('banana', 'fruit')\n",
      "('software', 'computer')\n"
     ]
    }
   ],
   "source": [
    "for i in thedict.items():\n",
    "    print(i)"
   ]
  },
  {
   "cell_type": "code",
   "execution_count": null,
   "metadata": {},
   "outputs": [],
   "source": []
  },
  {
   "cell_type": "code",
   "execution_count": 74,
   "metadata": {},
   "outputs": [
    {
     "name": "stdout",
     "output_type": "stream",
     "text": [
      "interet\n",
      "office\n",
      "company\n",
      "company\n",
      "fruit\n",
      "computer\n"
     ]
    }
   ],
   "source": [
    "# to get all the values in the dictionary\n",
    "\n",
    "for x in thedict.values():\n",
    "    print(x)"
   ]
  },
  {
   "cell_type": "code",
   "execution_count": 75,
   "metadata": {},
   "outputs": [
    {
     "name": "stdout",
     "output_type": "stream",
     "text": [
      "google\n",
      "laptop\n",
      "microsoft\n",
      "apple\n",
      "banana\n",
      "software\n"
     ]
    }
   ],
   "source": [
    "# to get all the keys in a dictionary \n",
    "\n",
    "for x in thedict.keys():\n",
    "    print(x)"
   ]
  },
  {
   "cell_type": "code",
   "execution_count": 76,
   "metadata": {},
   "outputs": [
    {
     "name": "stdout",
     "output_type": "stream",
     "text": [
      "google interet\n",
      "laptop office\n",
      "microsoft company\n",
      "apple company\n",
      "banana fruit\n",
      "software computer\n"
     ]
    }
   ],
   "source": [
    "# Getting both the keys and values at the same time; this will print everything, you need to \n",
    "# quote x and y to signify key and value \n",
    "for x, y in thedict.items():\n",
    "    print(x,y)"
   ]
  },
  {
   "cell_type": "code",
   "execution_count": 77,
   "metadata": {},
   "outputs": [
    {
     "data": {
      "text/plain": [
       "{'google': 'interet',\n",
       " 'laptop': 'office',\n",
       " 'microsoft': 'company',\n",
       " 'apple': 'company',\n",
       " 'banana': 'fruit',\n",
       " 'software': 'computer'}"
      ]
     },
     "execution_count": 77,
     "metadata": {},
     "output_type": "execute_result"
    }
   ],
   "source": [
    "\n",
    "thedict"
   ]
  },
  {
   "cell_type": "markdown",
   "metadata": {},
   "source": [
    "### Manipulating the dictionary "
   ]
  },
  {
   "cell_type": "code",
   "execution_count": null,
   "metadata": {},
   "outputs": [],
   "source": [
    "#Assigning the dict to another variable "
   ]
  },
  {
   "cell_type": "code",
   "execution_count": 130,
   "metadata": {},
   "outputs": [
    {
     "data": {
      "text/plain": [
       "{'google': 'interet',\n",
       " 'laptop': 'office',\n",
       " 'microsoft': 'company',\n",
       " 'apple': 'company',\n",
       " 'banana': 'fruit',\n",
       " 'software': 'computer'}"
      ]
     },
     "execution_count": 130,
     "metadata": {},
     "output_type": "execute_result"
    }
   ],
   "source": [
    "newdict = thedict\n",
    "newdict"
   ]
  },
  {
   "cell_type": "code",
   "execution_count": 131,
   "metadata": {},
   "outputs": [
    {
     "data": {
      "text/plain": [
       "{'google': 'interet',\n",
       " 'laptop': 'office',\n",
       " 'microsoft': 'company',\n",
       " 'apple': 'company',\n",
       " 'banana': 'fruit',\n",
       " 'software': 'computer'}"
      ]
     },
     "execution_count": 131,
     "metadata": {},
     "output_type": "execute_result"
    }
   ],
   "source": [
    "#Using the copy() method\n",
    "newestdict = thedict.copy()\n",
    "newestdict"
   ]
  },
  {
   "cell_type": "code",
   "execution_count": 78,
   "metadata": {},
   "outputs": [
    {
     "data": {
      "text/plain": [
       "{'google': 'interet',\n",
       " 'laptop': 'office',\n",
       " 'microsoft': 'company',\n",
       " 'apple': 'company',\n",
       " 'banana': 'fruit',\n",
       " 'software': 'computer'}"
      ]
     },
     "execution_count": 78,
     "metadata": {},
     "output_type": "execute_result"
    }
   ],
   "source": [
    "\n",
    "mydict = thedict\n",
    "mydict"
   ]
  },
  {
   "cell_type": "code",
   "execution_count": 79,
   "metadata": {},
   "outputs": [
    {
     "data": {
      "text/plain": [
       "{'google': 'interet',\n",
       " 'laptop': 'office',\n",
       " 'microsoft': 'company',\n",
       " 'apple': 'company',\n",
       " 'banana': 'fruit',\n",
       " 'software': 'computer'}"
      ]
     },
     "execution_count": 79,
     "metadata": {},
     "output_type": "execute_result"
    }
   ],
   "source": [
    "# copy items from a dictionary into another dictionary\n",
    "yourdict = thedict.copy()\n",
    "yourdict"
   ]
  },
  {
   "cell_type": "code",
   "execution_count": 80,
   "metadata": {},
   "outputs": [
    {
     "data": {
      "text/plain": [
       "{'google': 'interet',\n",
       " 'laptop': 'office',\n",
       " 'microsoft': 'company',\n",
       " 'apple': 'company',\n",
       " 'banana': 'fruit',\n",
       " 'software': 'computer'}"
      ]
     },
     "execution_count": 80,
     "metadata": {},
     "output_type": "execute_result"
    }
   ],
   "source": [
    "thedict"
   ]
  },
  {
   "cell_type": "code",
   "execution_count": 81,
   "metadata": {},
   "outputs": [
    {
     "data": {
      "text/plain": [
       "{'google': 'interet',\n",
       " 'laptop': 'office',\n",
       " 'microsoft': 'company',\n",
       " 'apple': 'company',\n",
       " 'banana': 'fruit',\n",
       " 'software': 'computer'}"
      ]
     },
     "execution_count": 81,
     "metadata": {},
     "output_type": "execute_result"
    }
   ],
   "source": [
    "# Another method to copy items is using the dict()\n",
    "\n",
    "hisdict = dict(thedict)\n",
    "hisdict"
   ]
  },
  {
   "cell_type": "markdown",
   "metadata": {},
   "source": [
    "#### Nested dictionaries: Dictionary inside another dictionary "
   ]
  },
  {
   "cell_type": "code",
   "execution_count": 138,
   "metadata": {},
   "outputs": [
    {
     "data": {
      "text/plain": [
       "{'Lagos': {'Anthony', 'Ikeja', 'Oshodi'},\n",
       " 'Ogun': {'Abeokuta', 'Idi-Aba', 'Lafenwa'},\n",
       " 'Oyo': {'Apata', 'Ikeja', 'Oluyole'}}"
      ]
     },
     "execution_count": 138,
     "metadata": {},
     "output_type": "execute_result"
    }
   ],
   "source": [
    "#Example 1:\n",
    "Nigeria = {'Lagos':{'Ikeja',\n",
    "                   'Anthony',\n",
    "                   'Oshodi'},\n",
    "           'Ogun': {'Abeokuta',\n",
    "                   'Lafenwa', \n",
    "                   'Idi-Aba'},\n",
    "           'Oyo': {'Ikeja', \n",
    "                   'Oluyole', \n",
    "                  'Apata'}  \n",
    "    \n",
    "}\n",
    "\n",
    "Nigeria"
   ]
  },
  {
   "cell_type": "code",
   "execution_count": 144,
   "metadata": {},
   "outputs": [
    {
     "data": {
      "text/plain": [
       "{'State1': {'Lagos': 'Ikeja', 'Population': 10000000},\n",
       " 'State2': {'Ogun': 'Abeokuta', 'Population': 6000000},\n",
       " 'State3': {'Oyo': 'Ibadan', 'Population': 7000000}}"
      ]
     },
     "execution_count": 144,
     "metadata": {},
     "output_type": "execute_result"
    }
   ],
   "source": [
    "State1 = {'Lagos': 'Ikeja', 'Population': 10000000}\n",
    "State2 = {'Ogun': 'Abeokuta', 'Population': 6000000}\n",
    "State3 = {'Oyo': 'Ibadan', 'Population': 7000000}\n",
    "\n",
    "Southwest = {'State1':State1, 'State2':State2, 'State3':State3}\n",
    "Southwest\n"
   ]
  },
  {
   "cell_type": "code",
   "execution_count": 82,
   "metadata": {},
   "outputs": [
    {
     "data": {
      "text/plain": [
       "{'child1': {'name': 'Tosin', 'year': 2020},\n",
       " 'child2': {'name': 'Kola', 'year': 2010},\n",
       " 'child3': {'name': 'Kemi', 'year': 2005}}"
      ]
     },
     "execution_count": 82,
     "metadata": {},
     "output_type": "execute_result"
    }
   ],
   "source": [
    "# Example 2\n",
    "myfamily = {\n",
    "    'child1': {\n",
    "        'name': 'Tosin',\n",
    "        'year': 2020\n",
    "    }, \n",
    "    'child2': {\n",
    "        'name': 'Kola',\n",
    "        'year': 2010\n",
    "    },\n",
    "    'child3':{\n",
    "        'name': 'Kemi',\n",
    "        'year': 2005\n",
    "    }\n",
    "}\n",
    "myfamily"
   ]
  },
  {
   "cell_type": "code",
   "execution_count": 83,
   "metadata": {},
   "outputs": [
    {
     "data": {
      "text/plain": [
       "{'child1': {'name': 'Tosin', 'year': 2020},\n",
       " 'child2': {'name': 'Kola', 'year': 2010}}"
      ]
     },
     "execution_count": 83,
     "metadata": {},
     "output_type": "execute_result"
    }
   ],
   "source": [
    "child1 = {'name': 'Tosin', 'year': 2020}\n",
    "\n",
    "child2 = {'name': 'Kola', 'year': 2010}\n",
    "\n",
    "myfamily ={'child1': child1, 'child2': child2}\n",
    "myfamily"
   ]
  },
  {
   "cell_type": "code",
   "execution_count": 84,
   "metadata": {},
   "outputs": [
    {
     "name": "stdout",
     "output_type": "stream",
     "text": [
      "{'bola': 'pink', 'ball': 'blue', 'bolar': 'pink', 'cup': 'white'}\n"
     ]
    }
   ],
   "source": [
    "# Dict doesn't accept duplicate keys, but can accept duplicate values\n",
    "\n",
    "listnew = {'bola': 'pink', 'ball': 'blue', 'bolar': 'pink', 'cup': 'white'}\n",
    "print(listnew)"
   ]
  },
  {
   "cell_type": "code",
   "execution_count": 148,
   "metadata": {},
   "outputs": [
    {
     "data": {
      "text/plain": [
       "str"
      ]
     },
     "execution_count": 148,
     "metadata": {},
     "output_type": "execute_result"
    }
   ],
   "source": [
    "#Ptyhon casting \n",
    "a = str(5)\n",
    "type(a)\n",
    "\n"
   ]
  },
  {
   "cell_type": "code",
   "execution_count": 152,
   "metadata": {},
   "outputs": [
    {
     "name": "stdout",
     "output_type": "stream",
     "text": [
      "Ayo is 25 years old\n"
     ]
    }
   ],
   "source": [
    "a = 'Ayo'\n",
    "\n",
    "b = '25'\n",
    "\n",
    "print(a + ' is ' + b + ' years old')\n",
    "\n",
    "\n",
    "\n",
    "\n"
   ]
  },
  {
   "cell_type": "code",
   "execution_count": null,
   "metadata": {},
   "outputs": [],
   "source": []
  }
 ],
 "metadata": {
  "kernelspec": {
   "display_name": "Python 3",
   "language": "python",
   "name": "python3"
  },
  "language_info": {
   "codemirror_mode": {
    "name": "ipython",
    "version": 3
   },
   "file_extension": ".py",
   "mimetype": "text/x-python",
   "name": "python",
   "nbconvert_exporter": "python",
   "pygments_lexer": "ipython3",
   "version": "3.8.5"
  }
 },
 "nbformat": 4,
 "nbformat_minor": 4
}
